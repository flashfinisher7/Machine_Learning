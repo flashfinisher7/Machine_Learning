{
 "cells": [
  {
   "cell_type": "code",
   "execution_count": 1,
   "id": "30dd1667",
   "metadata": {},
   "outputs": [],
   "source": [
    "# importing libraries\n",
    "import numpy as  np\n",
    "import pandas as pd\n",
    "import  array\n",
    "import matplotlib.pyplot as plt\n",
    "import sklearn\n",
    "import pickle\n",
    "import warnings\n",
    "import csv\n",
    "warnings.filterwarnings('ignore')"
   ]
  },
  {
   "cell_type": "code",
   "execution_count": 2,
   "id": "36bece5c",
   "metadata": {},
   "outputs": [],
   "source": [
    "# load model training\n",
    "file = open('training.pkl', 'rb')\n",
    "regressor = pickle.load(file)"
   ]
  },
  {
   "cell_type": "code",
   "execution_count": 3,
   "id": "17d54438",
   "metadata": {},
   "outputs": [],
   "source": [
    "# reading test csv file\n",
    "data = pd.read_csv('test.csv')"
   ]
  },
  {
   "cell_type": "code",
   "execution_count": 4,
   "id": "8b240290",
   "metadata": {},
   "outputs": [],
   "source": [
    "# seperating test file into x and y\n",
    "x = data.iloc[:,:-1].values\n",
    "y = data.iloc[:,1].values"
   ]
  },
  {
   "cell_type": "code",
   "execution_count": 5,
   "id": "ef9eb3a8",
   "metadata": {},
   "outputs": [],
   "source": [
    "# prediction using x test data over train model\n",
    "prediction = regressor.predict(x)"
   ]
  },
  {
   "cell_type": "code",
   "execution_count": 6,
   "id": "375ae604",
   "metadata": {},
   "outputs": [
    {
     "name": "stdout",
     "output_type": "stream",
     "text": [
      "Accuracy of test data = 82.69197269115939\n"
     ]
    }
   ],
   "source": [
    "# calculating accuracy \n",
    "test_accuraccy = sklearn.metrics.r2_score(y,prediction)\n",
    "test_accuraccy = (1-test_accuraccy)*100\n",
    "print(\"Accuracy of test data =\",  test_accuraccy)"
   ]
  },
  {
   "cell_type": "code",
   "execution_count": null,
   "id": "382159ad",
   "metadata": {},
   "outputs": [],
   "source": []
  }
 ],
 "metadata": {
  "kernelspec": {
   "display_name": "Python 3",
   "language": "python",
   "name": "python3"
  },
  "language_info": {
   "codemirror_mode": {
    "name": "ipython",
    "version": 3
   },
   "file_extension": ".py",
   "mimetype": "text/x-python",
   "name": "python",
   "nbconvert_exporter": "python",
   "pygments_lexer": "ipython3",
   "version": "3.8.8"
  }
 },
 "nbformat": 4,
 "nbformat_minor": 5
}
